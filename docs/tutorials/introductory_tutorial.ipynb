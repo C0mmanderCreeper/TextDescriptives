{
 "cells": [
  {
   "cell_type": "markdown",
   "metadata": {},
   "source": [
    "# Introductory Tutorial\n",
    "\n",
    "TextDescriptives lets you quickly and easily calculate a large variety of statistics and metrics from texts. \n",
    "\n",
    "The package includes a number of components that make"
   ]
  },
  {
   "cell_type": "code",
   "execution_count": 1,
   "metadata": {},
   "outputs": [],
   "source": [
    "import tabulate\n",
    "\n",
    "import spacy\n",
    "import textdescriptives as td\n",
    "nlp = spacy.load(\"en_core_web_sm\")\n",
    "nlp.add_pipe(\"textdescriptives.quality\") \n",
    "doc = nlp(\"The world is changed. I feel it in the water. I feel it in the earth. I smell it in the air. Much that once was is lost, for none now live who remember it.\")\n",
    "\n",
    "# all attributes are stored as a dict in the ._.pos_proportions attribute\n",
    "doc._.quality\n",
    "\n",
    "# extract to dataframe\n",
    "df = td.extract_df(doc, metrics=\"quality\")\n",
    "\n",
    "df[\"text\"] = df[\"text\"].apply(lambda x: x[:20] + \"(...)\")\n"
   ]
  },
  {
   "cell_type": "code",
   "execution_count": 2,
   "metadata": {},
   "outputs": [
    {
     "data": {
      "text/html": [
       "<div>\n",
       "<style scoped>\n",
       "    .dataframe tbody tr th:only-of-type {\n",
       "        vertical-align: middle;\n",
       "    }\n",
       "\n",
       "    .dataframe tbody tr th {\n",
       "        vertical-align: top;\n",
       "    }\n",
       "\n",
       "    .dataframe thead th {\n",
       "        text-align: right;\n",
       "    }\n",
       "</style>\n",
       "<table border=\"1\" class=\"dataframe\">\n",
       "  <thead>\n",
       "    <tr style=\"text-align: right;\">\n",
       "      <th></th>\n",
       "      <th>text</th>\n",
       "      <th>n_stop_words</th>\n",
       "      <th>alpha_ratio</th>\n",
       "      <th>mean_word_length</th>\n",
       "      <th>doc_length</th>\n",
       "      <th>proportion_ellipsis</th>\n",
       "      <th>proportion_bullet_points</th>\n",
       "      <th>duplicate_line_chr_fraction</th>\n",
       "      <th>duplicate_paragraph_chr_fraction</th>\n",
       "      <th>duplicate_5-gram_chr_fraction</th>\n",
       "      <th>...</th>\n",
       "      <th>duplicate_7-gram_chr_fraction</th>\n",
       "      <th>duplicate_8-gram_chr_fraction</th>\n",
       "      <th>duplicate_9-gram_chr_fraction</th>\n",
       "      <th>duplicate_10-gram_chr_fraction</th>\n",
       "      <th>top_2-gram_chr_fraction</th>\n",
       "      <th>top_3-gram_chr_fraction</th>\n",
       "      <th>top_4-gram_chr_fraction</th>\n",
       "      <th>symbol_#_2_word_ratio</th>\n",
       "      <th>contains_lorem ipsum</th>\n",
       "      <th>passed_quality_check</th>\n",
       "    </tr>\n",
       "  </thead>\n",
       "  <tbody>\n",
       "    <tr>\n",
       "      <th>0</th>\n",
       "      <td>The world is changed(...)</td>\n",
       "      <td>24</td>\n",
       "      <td>0.853659</td>\n",
       "      <td>2.95122</td>\n",
       "      <td>41</td>\n",
       "      <td>0.0</td>\n",
       "      <td>0.0</td>\n",
       "      <td>0.0</td>\n",
       "      <td>0.0</td>\n",
       "      <td>0.232258</td>\n",
       "      <td>...</td>\n",
       "      <td>0.0</td>\n",
       "      <td>0.0</td>\n",
       "      <td>0.0</td>\n",
       "      <td>0.0</td>\n",
       "      <td>0.058065</td>\n",
       "      <td>0.174194</td>\n",
       "      <td>0.0</td>\n",
       "      <td>0.0</td>\n",
       "      <td>False</td>\n",
       "      <td>False</td>\n",
       "    </tr>\n",
       "  </tbody>\n",
       "</table>\n",
       "<p>1 rows × 21 columns</p>\n",
       "</div>"
      ],
      "text/plain": [
       "                        text  n_stop_words  alpha_ratio  mean_word_length  \\\n",
       "0  The world is changed(...)            24     0.853659           2.95122   \n",
       "\n",
       "   doc_length  proportion_ellipsis  proportion_bullet_points  \\\n",
       "0          41                  0.0                       0.0   \n",
       "\n",
       "   duplicate_line_chr_fraction  duplicate_paragraph_chr_fraction  \\\n",
       "0                          0.0                               0.0   \n",
       "\n",
       "   duplicate_5-gram_chr_fraction  ...  duplicate_7-gram_chr_fraction  \\\n",
       "0                       0.232258  ...                            0.0   \n",
       "\n",
       "   duplicate_8-gram_chr_fraction  duplicate_9-gram_chr_fraction  \\\n",
       "0                            0.0                            0.0   \n",
       "\n",
       "   duplicate_10-gram_chr_fraction  top_2-gram_chr_fraction  \\\n",
       "0                             0.0                 0.058065   \n",
       "\n",
       "   top_3-gram_chr_fraction  top_4-gram_chr_fraction  symbol_#_2_word_ratio  \\\n",
       "0                 0.174194                      0.0                    0.0   \n",
       "\n",
       "   contains_lorem ipsum  passed_quality_check  \n",
       "0                 False                 False  \n",
       "\n",
       "[1 rows x 21 columns]"
      ]
     },
     "execution_count": 2,
     "metadata": {},
     "output_type": "execute_result"
    }
   ],
   "source": [
    "df"
   ]
  },
  {
   "cell_type": "code",
   "execution_count": 3,
   "metadata": {},
   "outputs": [
    {
     "name": "stdout",
     "output_type": "stream",
     "text": [
      "====  =========================  ==============  =============  ==================  ============  =====================  ==========================  =============================  ==================================  ===============================  ===============================  ===============================  ===============================  ===============================  ================================  =========================  =========================  =========================  =======================  ======================  ======================\n",
      "  ..  text                         n_stop_words    alpha_ratio    mean_word_length    doc_length    proportion_ellipsis    proportion_bullet_points    duplicate_line_chr_fraction    duplicate_paragraph_chr_fraction    duplicate_5-gram_chr_fraction    duplicate_6-gram_chr_fraction    duplicate_7-gram_chr_fraction    duplicate_8-gram_chr_fraction    duplicate_9-gram_chr_fraction    duplicate_10-gram_chr_fraction    top_2-gram_chr_fraction    top_3-gram_chr_fraction    top_4-gram_chr_fraction    symbol_#_2_word_ratio  contains_lorem ipsum    passed_quality_check\n",
      "====  =========================  ==============  =============  ==================  ============  =====================  ==========================  =============================  ==================================  ===============================  ===============================  ===============================  ===============================  ===============================  ================================  =========================  =========================  =========================  =======================  ======================  ======================\n",
      "   0  The world is changed(...)              24       0.853659             2.95122            41                      0                           0                              0                                   0                         0.232258                         0.232258                                0                                0                                0                                 0                  0.0580645                   0.174194                          0                        0  False                   False\n",
      "====  =========================  ==============  =============  ==================  ============  =====================  ==========================  =============================  ==================================  ===============================  ===============================  ===============================  ===============================  ===============================  ================================  =========================  =========================  =========================  =======================  ======================  ======================\n"
     ]
    }
   ],
   "source": [
    "print(tabulate.tabulate(df, headers=df.columns, tablefmt=\"rst\"))"
   ]
  },
  {
   "cell_type": "code",
   "execution_count": 10,
   "metadata": {},
   "outputs": [
    {
     "data": {
      "text/plain": [
       "False"
      ]
     },
     "execution_count": 10,
     "metadata": {},
     "output_type": "execute_result"
    }
   ],
   "source": [
    "doc._.passed_quality_check"
   ]
  },
  {
   "cell_type": "code",
   "execution_count": null,
   "metadata": {},
   "outputs": [],
   "source": []
  }
 ],
 "metadata": {
  "kernelspec": {
   "display_name": "Python 3.10.8 ('.venv': venv)",
   "language": "python",
   "name": "python3"
  },
  "language_info": {
   "codemirror_mode": {
    "name": "ipython",
    "version": 3
   },
   "file_extension": ".py",
   "mimetype": "text/x-python",
   "name": "python",
   "nbconvert_exporter": "python",
   "pygments_lexer": "ipython3",
   "version": "3.10.8"
  },
  "orig_nbformat": 4,
  "vscode": {
   "interpreter": {
    "hash": "1fec3abd59d8d4e793464ce299b69082c8b9c618d555ba6df7044c7d7b4183f8"
   }
  }
 },
 "nbformat": 4,
 "nbformat_minor": 2
}
