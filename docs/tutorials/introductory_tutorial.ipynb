{
 "cells": [
  {
   "cell_type": "markdown",
   "metadata": {},
   "source": [
    "# Introductory Tutorial\n",
    "\n",
    "TextDescriptives lets you quickly and easily calculate a large variety of statistics and metrics from texts. \n",
    "\n",
    "The package includes a number of components that make"
   ]
  }
 ],
 "metadata": {
  "kernelspec": {
   "display_name": "Python 3.10.8 ('.venv': venv)",
   "language": "python",
   "name": "python3"
  },
  "language_info": {
   "name": "python",
   "version": "3.10.8"
  },
  "orig_nbformat": 4,
  "vscode": {
   "interpreter": {
    "hash": "1fec3abd59d8d4e793464ce299b69082c8b9c618d555ba6df7044c7d7b4183f8"
   }
  }
 },
 "nbformat": 4,
 "nbformat_minor": 2
}
