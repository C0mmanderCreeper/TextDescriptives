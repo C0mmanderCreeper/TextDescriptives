{
 "cells": [
  {
   "attachments": {},
   "cell_type": "markdown",
   "metadata": {},
   "source": [
    "# Filtering corpora using Quality\n",
    "\n",
    "<a target=\"_blank\" href=\"https://colab.research.google.com/github/HLasse/TextDescriptives/blob/main/docs/tutorials/filter_corpus_using_quality.ipynb\">\n",
    "  <img src=\"https://colab.research.google.com/assets/colab-badge.svg\" alt=\"Open In Colab\"/>\n",
    "</a>\n",
    "\n",
    "In many cases if you want to analyse tweets, train a model on text scraped from the web or similar, it is important to filter out low-quality texts.\n",
    "\n",
    "TextDescriptives implements a series of heuristic filters for removing low-quality text. This tutorial will take you through how to use these to filter\n",
    "your text corpora."
   ]
  },
  {
   "attachments": {},
   "cell_type": "markdown",
   "metadata": {},
   "source": [
    "## Setup\n",
    "\n",
    "For this we will use the [Danish Gigaword](https://sprogteknologi.dk/dataset/danish-gigaword) available on [Huggingface Datasets](DDSC/partial-danish-gigaword-no-twitter). For the purpose of this tutorial we will just use a small test version of it containing around 2500 examples, but you could easily change it to use the whole dataset. Danish Gigaword is a large collection of Danish texts collected from a variety of domains. To download it we will need the `datasets` package. Which you can install by running\n",
    "\n",
    "```python\n",
    "!pip install datasets\n",
    "```\n",
    "\n",
    "Or by installing textdescriptives with the `[tutorials]` option as below"
   ]
  },
  {
   "cell_type": "code",
   "execution_count": null,
   "metadata": {},
   "outputs": [],
   "source": [
    "try:\n",
    "    import textdescriptives\n",
    "except:\n",
    "    !pip install \"textdescriptives[tutorials]\""
   ]
  },
  {
   "cell_type": "markdown",
   "metadata": {},
   "source": [
    "We can now easily donwload the dataset using the following command:"
   ]
  },
  {
   "cell_type": "code",
   "execution_count": 1,
   "metadata": {},
   "outputs": [
    {
     "name": "stderr",
     "output_type": "stream",
     "text": [
      "/Users/au554730/Desktop/Projects/TextDescriptives/.venv/lib/python3.10/site-packages/tqdm/auto.py:22: TqdmWarning: IProgress not found. Please update jupyter and ipywidgets. See https://ipywidgets.readthedocs.io/en/stable/user_install.html\n",
      "  from .autonotebook import tqdm as notebook_tqdm\n",
      "Downloading readme: 100%|██████████| 1.42k/1.42k [00:00<00:00, 486kB/s]\n",
      "Using custom data configuration DDSC--partial-danish-gigaword-small-test-sample-6518b630de09688d\n"
     ]
    },
    {
     "name": "stdout",
     "output_type": "stream",
     "text": [
      "Downloading and preparing dataset None/None to /Users/au554730/.cache/huggingface/datasets/DDSC___parquet/DDSC--partial-danish-gigaword-small-test-sample-6518b630de09688d/0.0.0/2a3b91fbd88a2c90d1dbbb32b460cf621d31bd5b05b934492fdef7d8d6f236ec...\n"
     ]
    },
    {
     "name": "stderr",
     "output_type": "stream",
     "text": [
      "Downloading data: 100%|██████████| 11.7M/11.7M [00:00<00:00, 20.8MB/s]\n",
      "Downloading data files: 100%|██████████| 1/1 [00:01<00:00,  1.86s/it]\n",
      "Extracting data files: 100%|██████████| 1/1 [00:00<00:00, 585.80it/s]\n",
      "                                                                       \r"
     ]
    },
    {
     "name": "stdout",
     "output_type": "stream",
     "text": [
      "Dataset parquet downloaded and prepared to /Users/au554730/.cache/huggingface/datasets/DDSC___parquet/DDSC--partial-danish-gigaword-small-test-sample-6518b630de09688d/0.0.0/2a3b91fbd88a2c90d1dbbb32b460cf621d31bd5b05b934492fdef7d8d6f236ec. Subsequent calls will reuse this data.\n"
     ]
    },
    {
     "name": "stderr",
     "output_type": "stream",
     "text": [
      "100%|██████████| 1/1 [00:00<00:00, 233.71it/s]\n"
     ]
    }
   ],
   "source": [
    "from datasets import load_dataset\n",
    "\n",
    "# note that this can take a little while\n",
    "dataset = load_dataset(\"DDSC/partial-danish-gigaword-small-test-sample\")\n",
    "\n",
    "# All of the dataset is available in the train split\n",
    "dataset = dataset[\"train\"]"
   ]
  },
  {
   "cell_type": "code",
   "execution_count": 2,
   "metadata": {},
   "outputs": [
    {
     "data": {
      "text/html": [
       "<div>\n",
       "<style scoped>\n",
       "    .dataframe tbody tr th:only-of-type {\n",
       "        vertical-align: middle;\n",
       "    }\n",
       "\n",
       "    .dataframe tbody tr th {\n",
       "        vertical-align: top;\n",
       "    }\n",
       "\n",
       "    .dataframe thead th {\n",
       "        text-align: right;\n",
       "    }\n",
       "</style>\n",
       "<table border=\"1\" class=\"dataframe\">\n",
       "  <thead>\n",
       "    <tr style=\"text-align: right;\">\n",
       "      <th></th>\n",
       "      <th>text</th>\n",
       "      <th>source</th>\n",
       "      <th>doc_id</th>\n",
       "      <th>LICENSE</th>\n",
       "      <th>uri</th>\n",
       "      <th>date_built</th>\n",
       "    </tr>\n",
       "  </thead>\n",
       "  <tbody>\n",
       "    <tr>\n",
       "      <th>0</th>\n",
       "      <td>Den fulde tekst Pressenævnets kendelse i sag n...</td>\n",
       "      <td>retsinformationdk</td>\n",
       "      <td>retsinformationdk_173889</td>\n",
       "      <td>Danish Copyright law at https://www.retsinform...</td>\n",
       "      <td>https://www.retsinformation.dk/Forms/R0710.asp...</td>\n",
       "      <td>Fri Nov 22 00:51:31 2019 +0100</td>\n",
       "    </tr>\n",
       "    <tr>\n",
       "      <th>1</th>\n",
       "      <td>Resume\\n\\nEfter at der var sket afskedigelser ...</td>\n",
       "      <td>retsinformationdk</td>\n",
       "      <td>retsinformationdk_39059</td>\n",
       "      <td>Danish Copyright law at https://www.retsinform...</td>\n",
       "      <td>https://www.retsinformation.dk/Forms/R0710.asp...</td>\n",
       "      <td>Fri Nov 22 00:51:14 2019 +0100</td>\n",
       "    </tr>\n",
       "    <tr>\n",
       "      <th>2</th>\n",
       "      <td>Resume\\n\\nContainere kunne ikke anses som genb...</td>\n",
       "      <td>retsinformationdk</td>\n",
       "      <td>retsinformationdk_15045</td>\n",
       "      <td>Danish Copyright law at https://www.retsinform...</td>\n",
       "      <td>https://www.retsinformation.dk/Forms/R0710.asp...</td>\n",
       "      <td>Fri Nov 22 00:51:28 2019 +0100</td>\n",
       "    </tr>\n",
       "    <tr>\n",
       "      <th>3</th>\n",
       "      <td>Resume\\n\\nEn forhandler ved »home-parties« af ...</td>\n",
       "      <td>retsinformationdk</td>\n",
       "      <td>retsinformationdk_37261</td>\n",
       "      <td>Danish Copyright law at https://www.retsinform...</td>\n",
       "      <td>https://www.retsinformation.dk/Forms/R0710.asp...</td>\n",
       "      <td>Fri Nov 22 00:49:27 2019 +0100</td>\n",
       "    </tr>\n",
       "    <tr>\n",
       "      <th>4</th>\n",
       "      <td>Den fulde tekst\\n\\nSkrivelse om lov om fleksyd...</td>\n",
       "      <td>retsinformationdk</td>\n",
       "      <td>retsinformationdk_19415</td>\n",
       "      <td>Danish Copyright law at https://www.retsinform...</td>\n",
       "      <td>https://www.retsinformation.dk/Forms/R0710.asp...</td>\n",
       "      <td>Fri Nov 22 00:52:27 2019 +0100</td>\n",
       "    </tr>\n",
       "    <tr>\n",
       "      <th>5</th>\n",
       "      <td>Resume\\n\\nResumé\\n\\nKlage over påbud om særlig...</td>\n",
       "      <td>retsinformationdk</td>\n",
       "      <td>retsinformationdk_31217</td>\n",
       "      <td>Danish Copyright law at https://www.retsinform...</td>\n",
       "      <td>https://www.retsinformation.dk/Forms/R0710.asp...</td>\n",
       "      <td>Fri Nov 22 00:49:18 2019 +0100</td>\n",
       "    </tr>\n",
       "    <tr>\n",
       "      <th>6</th>\n",
       "      <td>Resume\\n\\nResumé\\n\\nI en række af de af Danmar...</td>\n",
       "      <td>retsinformationdk</td>\n",
       "      <td>retsinformationdk_14387</td>\n",
       "      <td>Danish Copyright law at https://www.retsinform...</td>\n",
       "      <td>https://www.retsinformation.dk/Forms/R0710.asp...</td>\n",
       "      <td>Fri Nov 22 00:49:49 2019 +0100</td>\n",
       "    </tr>\n",
       "    <tr>\n",
       "      <th>7</th>\n",
       "      <td>Oversigt (indholdsfortegnelse)\\n\\nBilag 1\\n\\nD...</td>\n",
       "      <td>retsinformationdk</td>\n",
       "      <td>retsinformationdk_166197</td>\n",
       "      <td>Danish Copyright law at https://www.retsinform...</td>\n",
       "      <td>https://www.retsinformation.dk/Forms/R0710.asp...</td>\n",
       "      <td>Fri Nov 22 00:49:44 2019 +0100</td>\n",
       "    </tr>\n",
       "    <tr>\n",
       "      <th>8</th>\n",
       "      <td>Den fulde tekst\\n\\nBekendtgørelse om afregning...</td>\n",
       "      <td>retsinformationdk</td>\n",
       "      <td>retsinformationdk_76994</td>\n",
       "      <td>Danish Copyright law at https://www.retsinform...</td>\n",
       "      <td>https://www.retsinformation.dk/Forms/R0710.asp...</td>\n",
       "      <td>Fri Nov 22 00:52:52 2019 +0100</td>\n",
       "    </tr>\n",
       "    <tr>\n",
       "      <th>9</th>\n",
       "      <td>Den fulde tekst Ligebehandlingsnævnets afgørel...</td>\n",
       "      <td>retsinformationdk</td>\n",
       "      <td>retsinformationdk_192325</td>\n",
       "      <td>Danish Copyright law at https://www.retsinform...</td>\n",
       "      <td>https://www.retsinformation.dk/Forms/R0710.asp...</td>\n",
       "      <td>Fri Nov 22 00:51:41 2019 +0100</td>\n",
       "    </tr>\n",
       "  </tbody>\n",
       "</table>\n",
       "</div>"
      ],
      "text/plain": [
       "                                                text             source  \\\n",
       "0  Den fulde tekst Pressenævnets kendelse i sag n...  retsinformationdk   \n",
       "1  Resume\\n\\nEfter at der var sket afskedigelser ...  retsinformationdk   \n",
       "2  Resume\\n\\nContainere kunne ikke anses som genb...  retsinformationdk   \n",
       "3  Resume\\n\\nEn forhandler ved »home-parties« af ...  retsinformationdk   \n",
       "4  Den fulde tekst\\n\\nSkrivelse om lov om fleksyd...  retsinformationdk   \n",
       "5  Resume\\n\\nResumé\\n\\nKlage over påbud om særlig...  retsinformationdk   \n",
       "6  Resume\\n\\nResumé\\n\\nI en række af de af Danmar...  retsinformationdk   \n",
       "7  Oversigt (indholdsfortegnelse)\\n\\nBilag 1\\n\\nD...  retsinformationdk   \n",
       "8  Den fulde tekst\\n\\nBekendtgørelse om afregning...  retsinformationdk   \n",
       "9  Den fulde tekst Ligebehandlingsnævnets afgørel...  retsinformationdk   \n",
       "\n",
       "                     doc_id  \\\n",
       "0  retsinformationdk_173889   \n",
       "1   retsinformationdk_39059   \n",
       "2   retsinformationdk_15045   \n",
       "3   retsinformationdk_37261   \n",
       "4   retsinformationdk_19415   \n",
       "5   retsinformationdk_31217   \n",
       "6   retsinformationdk_14387   \n",
       "7  retsinformationdk_166197   \n",
       "8   retsinformationdk_76994   \n",
       "9  retsinformationdk_192325   \n",
       "\n",
       "                                             LICENSE  \\\n",
       "0  Danish Copyright law at https://www.retsinform...   \n",
       "1  Danish Copyright law at https://www.retsinform...   \n",
       "2  Danish Copyright law at https://www.retsinform...   \n",
       "3  Danish Copyright law at https://www.retsinform...   \n",
       "4  Danish Copyright law at https://www.retsinform...   \n",
       "5  Danish Copyright law at https://www.retsinform...   \n",
       "6  Danish Copyright law at https://www.retsinform...   \n",
       "7  Danish Copyright law at https://www.retsinform...   \n",
       "8  Danish Copyright law at https://www.retsinform...   \n",
       "9  Danish Copyright law at https://www.retsinform...   \n",
       "\n",
       "                                                 uri  \\\n",
       "0  https://www.retsinformation.dk/Forms/R0710.asp...   \n",
       "1  https://www.retsinformation.dk/Forms/R0710.asp...   \n",
       "2  https://www.retsinformation.dk/Forms/R0710.asp...   \n",
       "3  https://www.retsinformation.dk/Forms/R0710.asp...   \n",
       "4  https://www.retsinformation.dk/Forms/R0710.asp...   \n",
       "5  https://www.retsinformation.dk/Forms/R0710.asp...   \n",
       "6  https://www.retsinformation.dk/Forms/R0710.asp...   \n",
       "7  https://www.retsinformation.dk/Forms/R0710.asp...   \n",
       "8  https://www.retsinformation.dk/Forms/R0710.asp...   \n",
       "9  https://www.retsinformation.dk/Forms/R0710.asp...   \n",
       "\n",
       "                       date_built  \n",
       "0  Fri Nov 22 00:51:31 2019 +0100  \n",
       "1  Fri Nov 22 00:51:14 2019 +0100  \n",
       "2  Fri Nov 22 00:51:28 2019 +0100  \n",
       "3  Fri Nov 22 00:49:27 2019 +0100  \n",
       "4  Fri Nov 22 00:52:27 2019 +0100  \n",
       "5  Fri Nov 22 00:49:18 2019 +0100  \n",
       "6  Fri Nov 22 00:49:49 2019 +0100  \n",
       "7  Fri Nov 22 00:49:44 2019 +0100  \n",
       "8  Fri Nov 22 00:52:52 2019 +0100  \n",
       "9  Fri Nov 22 00:51:41 2019 +0100  "
      ]
     },
     "execution_count": 2,
     "metadata": {},
     "output_type": "execute_result"
    }
   ],
   "source": [
    "# We can take a look at one of the examples:\n",
    "ten_samples = dataset.select(range(10))\n",
    "ten_samples.to_pandas()"
   ]
  },
  {
   "attachments": {},
   "cell_type": "markdown",
   "metadata": {},
   "source": [
    "As previously mentioned, the Danish Gigaword corpus consist of multiple domains. For this tutorial, we will look at three of these domains. `retsinformationdk` which consists of legal documents, `hest` which contains post from a Danish debate forum ([heste-nettet.dk](https://www.heste-nettet.dk/)) and `spont` which contains texts transcribed from spontaneous speech."
   ]
  },
  {
   "cell_type": "code",
   "execution_count": 3,
   "metadata": {},
   "outputs": [
    {
     "name": "stderr",
     "output_type": "stream",
     "text": [
      "100%|██████████| 3/3 [00:00<00:00,  3.78ba/s]\n",
      "100%|██████████| 3/3 [00:00<00:00, 33.95ba/s]\n",
      "100%|██████████| 3/3 [00:00<00:00, 35.37ba/s]\n"
     ]
    }
   ],
   "source": [
    "# we can filter out these three datasets based on the \"source\"\n",
    "legal = dataset.filter(lambda x: x[\"source\"] == \"retsinformationdk\")\n",
    "news = dataset.filter(lambda x: x[\"source\"] == \"tv2r\")\n",
    "speech = dataset.filter(lambda x: x[\"source\"] == \"spont\")"
   ]
  },
  {
   "attachments": {},
   "cell_type": "markdown",
   "metadata": {},
   "source": [
    "We can now examine these datasets a bit more:"
   ]
  },
  {
   "cell_type": "code",
   "execution_count": 4,
   "metadata": {},
   "outputs": [
    {
     "name": "stdout",
     "output_type": "stream",
     "text": [
      "Legal contains 1000 examples\n",
      "News contains 1000 examples\n",
      "Speech contains 411 examples\n"
     ]
    }
   ],
   "source": [
    "print(f\"Legal contains {len(legal)} examples\")\n",
    "print(f\"News contains {len(news)} examples\")\n",
    "print(f\"Speech contains {len(speech)} examples\")"
   ]
  },
  {
   "attachments": {},
   "cell_type": "markdown",
   "metadata": {},
   "source": [
    "We can for example see that the speech dataset contains notably fewer samples than the others. For that reason, let's only concern ourself with `legal` and `hest`"
   ]
  },
  {
   "attachments": {},
   "cell_type": "markdown",
   "metadata": {},
   "source": [
    "# Quality Filtering\n",
    "After we have prepared our datasets we can now start with the quality filtering. Using Textdescriptives this is extremely simple. We need to do 3 things:\n",
    "\n",
    "1) Create a pipeline\n",
    "2) Add the quality component from textdescriptives to it\n",
    "3) Apply the pipeline to the dataset\n"
   ]
  },
  {
   "cell_type": "code",
   "execution_count": 5,
   "metadata": {},
   "outputs": [],
   "source": [
    "import spacy\n",
    "import textdescriptives as td\n",
    "\n",
    "# 1. Crease a blank spaCy model with a sentencizer as that's the only component required for the quality metrics\n",
    "nlp = spacy.blank(\"da\")\n",
    "nlp.add_pipe(\"sentencizer\")\n",
    "nlp.max_length = 2000000  # as some of the documents are quite long we can increase the max length\n",
    "# however it might be worth filtering out these documents beforehand for very very long documents.\n",
    "\n",
    "# 2. Add the textdescriptives pipeline\n",
    "quality_pipe = nlp.add_pipe(\"textdescriptives/quality\")\n",
    "\n",
    "# 3. Apply the pipeline to the legal documents\n",
    "legal_docs = nlp.pipe(legal[\"text\"], batch_size=100, n_process=4)"
   ]
  },
  {
   "attachments": {},
   "cell_type": "markdown",
   "metadata": {},
   "source": [
    "If we check now we can see that legal_docs is a generator. This can be a quite efficient format, but for now we just want to process all the text so we simply need to convert it to a list:"
   ]
  },
  {
   "cell_type": "code",
   "execution_count": 6,
   "metadata": {},
   "outputs": [
    {
     "data": {
      "text/plain": [
       "<generator object Language.pipe at 0x1308f2c70>"
      ]
     },
     "execution_count": 6,
     "metadata": {},
     "output_type": "execute_result"
    }
   ],
   "source": [
    "legal_docs"
   ]
  },
  {
   "cell_type": "code",
   "execution_count": 7,
   "metadata": {},
   "outputs": [],
   "source": [
    "legal_docs = list(legal_docs)"
   ]
  },
  {
   "attachments": {},
   "cell_type": "markdown",
   "metadata": {},
   "source": [
    "We can now inspect the output here:"
   ]
  },
  {
   "cell_type": "code",
   "execution_count": 8,
   "metadata": {},
   "outputs": [
    {
     "name": "stdout",
     "output_type": "stream",
     "text": [
      "Den fulde tekst Pressenævnets kendelse i sag nr. 15-70-00822\n",
      "Resumé\n",
      "Foreningen for Skånsomt Kystfiskeri har ikke retlig interesse\n",
      "DR bragte et radioindslag om Natur- og Erhvervsstyrelsens fiskeriinspektorats fangst af ulovlige ålefælder. Foreningen for Skånsomt Kystfiskeri klagede blandt andet med den begrundelse, at betegnelsen ” ålefælder ” er forkert, idet ålene selv kan svømme ind og ud. Pressenævnet afviser at behandle klagen, da foreningen ikke er omtalt i udsendelsen og derfor ikke har retlig interesse.\n",
      "Pressenævnets formand udtaler:\n",
      "Det er en betingelse for at klage til Pressenævnet, at\n",
      "----\n",
      "This passed the quality filter:\n"
     ]
    },
    {
     "data": {
      "text/plain": [
       "False"
      ]
     },
     "execution_count": 8,
     "metadata": {},
     "output_type": "execute_result"
    }
   ],
   "source": [
    "legal_doc = legal_docs[0]\n",
    "\n",
    "print(legal_doc[:100]) # print the first 100 tokens\n",
    "print(\"----\")\n",
    "print(\"This passed the quality filter:\")\n",
    "legal_doc._.passed_quality_check"
   ]
  },
  {
   "attachments": {},
   "cell_type": "markdown",
   "metadata": {},
   "source": [
    "Here we see that the text did not pass the quality filter. We can now examine why that using the following code:"
   ]
  },
  {
   "cell_type": "code",
   "execution_count": 9,
   "metadata": {},
   "outputs": [
    {
     "data": {
      "text/plain": [
       "{'n_stop_words': 192,\n",
       " 'alpha_ratio': 0.804,\n",
       " 'mean_word_length': 4.546,\n",
       " 'doc_length': 500,\n",
       " 'proportion_ellipsis': 0.0,\n",
       " 'proportion_bullet_points': 0.0,\n",
       " 'duplicate_line_chr_fraction': 0.25737766156144937,\n",
       " 'duplicate_paragraph_chr_fraction': 0.0,\n",
       " 'duplicate_5-gram_chr_fraction': 0.5401568920433321,\n",
       " 'duplicate_6-gram_chr_fraction': 0.519237952932387,\n",
       " 'duplicate_7-gram_chr_fraction': 0.519237952932387,\n",
       " 'duplicate_8-gram_chr_fraction': 0.519237952932387,\n",
       " 'duplicate_9-gram_chr_fraction': 0.519237952932387,\n",
       " 'duplicate_10-gram_chr_fraction': 0.519237952932387,\n",
       " 'top_2-gram_chr_fraction': 0.017930519237952934,\n",
       " 'top_3-gram_chr_fraction': 0.042958535674262235,\n",
       " 'top_4-gram_chr_fraction': 0.0653716847217034,\n",
       " 'symbol_#_to_word_ratio': 0.0,\n",
       " 'contains_lorem ipsum': False}"
      ]
     },
     "execution_count": 9,
     "metadata": {},
     "output_type": "execute_result"
    }
   ],
   "source": [
    "legal_doc._.quality"
   ]
  },
  {
   "attachments": {},
   "cell_type": "markdown",
   "metadata": {},
   "source": [
    "Here we see that fraction of characters which is a part of a duplicate 10 gram is >50%. This is likely the reason why the sample was filtered out. This is not uncommon for legal documents which contain a lot of standard phrases. However you might wish to change the threshold for this filter. You can see an example of how to do this in the [documentation](https://hlasse.github.io/TextDescriptives/quality.html). We also see that the `alpha_ratio` is close 0.8. This means that the text is mostly made up of alphabetic characters.\n",
    "\n",
    "You can also inspect the existing thresholds:"
   ]
  },
  {
   "cell_type": "code",
   "execution_count": 10,
   "metadata": {},
   "outputs": [
    {
     "data": {
      "text/plain": [
       "QualityThresholds(n_stop_words=(2, None), alpha_ratio=(0.6, None), mean_word_length=(3, 10), doc_length=(10, 100000), symbol_to_word_ratio={'#': (None, 0.1)}, proportion_ellipsis=(None, 0.3), proportion_bullet_points=(None, 0.8), contains={'lorem ipsum': False}, duplicate_line_chr_fraction=(None, 0.2), duplicate_paragraph_chr_fraction=(None, 0.2), duplicate_ngram_chr_fraction={'5': (None, 0.15), '6': (None, 0.14), '7': (None, 0.13), '8': (None, 0.12), '9': (None, 0.11), '10': (None, 0.1)}, top_ngram_chr_fraction={'2': (None, 0.2), '3': (None, 0.18), '4': (None, 0.16)})"
      ]
     },
     "execution_count": 10,
     "metadata": {},
     "output_type": "execute_result"
    }
   ],
   "source": [
    "quality_pipe.quality_thresholds"
   ]
  },
  {
   "attachments": {},
   "cell_type": "markdown",
   "metadata": {},
   "source": [
    "Here we see that the `duplicate_ngram_chr_fraction` for 10-grams is 0.1. This means that if a text contains more than 10% of characters which are a part of a duplicate 10-gram it will be filtered out."
   ]
  },
  {
   "attachments": {},
   "cell_type": "markdown",
   "metadata": {},
   "source": [
    "### Filtering out the text\n",
    "Assuming we don't want to change the filter we can now use it to filter out the texts that we want to keep:"
   ]
  },
  {
   "cell_type": "code",
   "execution_count": 11,
   "metadata": {},
   "outputs": [],
   "source": [
    "# 4. Filter out the documents that do not pass the quality\n",
    "legal_docs_filtered = [doc for doc in legal_docs if doc._.passed_quality_check]\n"
   ]
  },
  {
   "cell_type": "code",
   "execution_count": 12,
   "metadata": {},
   "outputs": [
    {
     "name": "stdout",
     "output_type": "stream",
     "text": [
      "We had a total of 1000 which we filtered down to 335.\n"
     ]
    }
   ],
   "source": [
    "print(f\"We had a total of {len(legal['text'])} which we filtered down to {len(legal_docs_filtered)}.\")"
   ]
  },
  {
   "attachments": {},
   "cell_type": "markdown",
   "metadata": {},
   "source": [
    "That seems like a lot, we should probably check why that is. We can do this by looking at the distribution of the scores:"
   ]
  },
  {
   "cell_type": "code",
   "execution_count": 13,
   "metadata": {},
   "outputs": [
    {
     "data": {
      "text/plain": [
       "<AxesSubplot: ylabel='Count'>"
      ]
     },
     "execution_count": 13,
     "metadata": {},
     "output_type": "execute_result"
    },
    {
     "data": {
      "image/png": "[encoded data removed]",
      "text/plain": [
       "<Figure size 640x480 with 1 Axes>"
      ]
     },
     "metadata": {},
     "output_type": "display_data"
    }
   ],
   "source": [
    "import seaborn as sns\n",
    "\n",
    "duplicate_10_gram_fraction = [doc._.quality[\"duplicate_10-gram_chr_fraction\"] for doc in legal_docs]\n",
    "sns.histplot(duplicate_10_gram_fraction)"
   ]
  },
  {
   "attachments": {},
   "cell_type": "markdown",
   "metadata": {},
   "source": [
    "This seems like it explains a lot of the texts which were filtered out, but does not explain everything. Let us take a look at the `alpha_ratio` as well:"
   ]
  },
  {
   "cell_type": "code",
   "execution_count": 14,
   "metadata": {},
   "outputs": [
    {
     "data": {
      "text/plain": [
       "<AxesSubplot: ylabel='Count'>"
      ]
     },
     "execution_count": 14,
     "metadata": {},
     "output_type": "execute_result"
    },
    {
     "data": {
      "image/png": "[encoded data removed]",
      "text/plain": [
       "<Figure size 640x480 with 1 Axes>"
      ]
     },
     "metadata": {},
     "output_type": "display_data"
    }
   ],
   "source": [
    "alpha_ratio = [doc._.quality[\"alpha_ratio\"] for doc in legal_docs]\n",
    "sns.histplot(alpha_ratio)"
   ]
  },
  {
   "attachments": {},
   "cell_type": "markdown",
   "metadata": {},
   "source": [
    "We see that most of the text does not pass the `alpha_ratio` filter of 0.8 or higher. This is not uncommon for legal documents as e.g. the paragraph sign `§` is not an alphabetic character. It might be relevant to change the threshold to 0.7 or lower."
   ]
  },
  {
   "attachments": {},
   "cell_type": "markdown",
   "metadata": {},
   "source": [
    "# Comparing across domains\n",
    "We see that legal documents have quite a few perculiarities let us examine how the `alpha_ratio` behaves across different domains:"
   ]
  },
  {
   "cell_type": "code",
   "execution_count": 15,
   "metadata": {},
   "outputs": [],
   "source": [
    "# first we apply the pipeline to the other domains\n",
    "news_docs = nlp.pipe(news[\"text\"], batch_size=100, n_process=4)\n",
    "news_docs = list(news_docs)"
   ]
  },
  {
   "cell_type": "code",
   "execution_count": 16,
   "metadata": {},
   "outputs": [],
   "source": [
    "# etract alpha ratio:\n",
    "news_alpha_ratio = [doc._.quality[\"alpha_ratio\"] for doc in news_docs]"
   ]
  },
  {
   "attachments": {},
   "cell_type": "markdown",
   "metadata": {},
   "source": [
    "Now that we have the metrics we can plot a histogram comparing the metrics:"
   ]
  },
  {
   "cell_type": "code",
   "execution_count": 17,
   "metadata": {},
   "outputs": [
    {
     "data": {
      "text/plain": [
       "<matplotlib.legend.Legend at 0x133cfbb20>"
      ]
     },
     "execution_count": 17,
     "metadata": {},
     "output_type": "execute_result"
    },
    {
     "data": {
      "image/png": "[encoded data removed]",
      "text/plain": [
       "<Figure size 640x480 with 1 Axes>"
      ]
     },
     "metadata": {},
     "output_type": "display_data"
    }
   ],
   "source": [
    "import matplotlib.pyplot as plt\n",
    "# histogram\n",
    "sns.histplot(news_alpha_ratio, label=\"News\", alpha=0.5, binwidth=0.05)\n",
    "sns.histplot(alpha_ratio, label=\"Legal\", alpha=0.5, binwidth=0.05)\n",
    "\n",
    "# add labels\n",
    "plt.xlabel(\"Alpha ratio\")\n",
    "plt.ylabel(\"Count\")\n",
    "plt.legend()"
   ]
  },
  {
   "attachments": {},
   "cell_type": "markdown",
   "metadata": {},
   "source": [
    "Here we see a couple of things:\n",
    "- A fair amount of legal documents have an alpha ratio above 0.6.\n",
    "- Almost no news text have a alpha ratio below 0.6.\n",
    "\n",
    "Let us examine one of the legal with a low alpha-ratio a bit more in-depth:"
   ]
  },
  {
   "cell_type": "code",
   "execution_count": 19,
   "metadata": {},
   "outputs": [
    {
     "data": {
      "text/plain": [
       "Oversigt (indholdsfortegnelse)\n",
       "\n",
       "Den fulde tekst\n",
       "\n",
       "Bekendtgørelse om\n",
       "Fanefjord-Grønsund Vildtreservat\n",
       "\n",
       "I medfør af § 33 og § 49, stk. 1 og 3, i lov om jagt og\n",
       "vildtforvaltning, jf. lovbekendtgørelse nr. 114 af 28. januar 1997,\n",
       "fastsættes:\n",
       "Formål\n",
       "\n",
       "§ 1.  Bekendtgørelsen har til formål\n",
       "at sikre Fanefjord og en del af Grønsund som yngle-, raste- og\n",
       "fourageringsområde for vandfugle .\n",
       "\n",
       "Afgrænsning\n",
       "\n",
       "End of \"§ 1\"\n",
       "\n",
       "§ 2.  Fanefjord-Grønsund Vildtreservat i\n",
       "Storstrøms Amt omfatter, som angivet på kortbilag:\n",
       "1)\tLandarealer ved Fanefjord:\n",
       "a)\tMatr. nr. 12 b ,  del af 14 b , del af 20 b ,\n",
       "20 e , 23 a , 23 b , 23 c,  55 a , 55 b ,\n",
       "55 c  og 64 Hårbølle By, Fanefjord. Den del af matr. nr.\n",
       "8 f  og 23 d   Hårbølle By, Fanefjord, som er\n",
       "beliggende nord for den øst-vestgående markvej til\n",
       "Færgensvænge samt den del af matr. nr. 12 c\n",
       "Hårbølle By, Fanefjord, som er beliggende indenfor en afstand af\n",
       "200 m fra Fanefjord. De dele af matr. nr. 1, 4 e , 6 c ,\n",
       "19 c , 20 a  og 20 af  Hårbølle By, Fanefjord,\n",
       "som er beliggende indenfor en afstand af 100 m fra Fanefjord.\n",
       "b)\tMatr. nr. 12 e , 12 k , 12 o , 13 d ,\n",
       "13 f , 13 g  og 13 k  Kokseby By, Fanefjord, og de dele af\n",
       "matr. nr. 13 c  og 13 e  Kokseby By, Fanefjord, som er beliggende\n",
       "syd for diget mellem Færgegården og Vollerup Græsgange. De\n",
       "dele af matr. nr. 12 u , 12 i  og 12 f  Kokseby By, Fanefjord,\n",
       "som er beliggende syd for en ret linie fra vejen syd for Kirkegården\n",
       "(60 m nord for Lammehavevej) til et punkt i matrikelskellet mellem 12 f\n",
       "og 12 k  Kokseby By, Fanefjord, beliggende i en afstand af ca. 35 m fra,\n",
       "hvor matrikelskellet skærer kystlinien ved Fanefjord.\n",
       "c)\tDe dele af matr. nr. 1 c  og 1 b  Grønsund\n",
       "Færgegård, Fanefjord (herunder Malurt-holm), som er beliggende\n",
       "syd for diget mellem Færgegården og Vollerup\n",
       "Græsgange.\n",
       "2)\tFanefjord og Grønsund afgrænset:\n",
       "a)\tMod sydøst af en ret linie mellem den nordlige mole ved\n",
       "lystbådehavnen ved Hårbøllebro og Skansepynt ved\n",
       "Grønsund,\n",
       "b)\tmod vest af  en ret linie mellem høfden ved Ore Strand og det\n",
       "punkt på kysten ved Bogø, hvor dæmningen møder\n",
       "kysten ved Gundernæs, og\n",
       "c)\tmod nord af Bogødæmningen.\n",
       "3)\tDen del af Bogø Letten som er beliggende indenfor en afstand\n",
       "af 200 meter fra Bogødæmningen.\n",
       "Stk. 2.  Mod land afgrænses de i stk. 1, nr. 2 og 3\n",
       "nævnte dele af søterritoriet af højeste, daglige\n",
       "vandstandslinie.\n",
       "Jagt\n",
       "\n",
       "End of \"§ 2\"\n",
       "\n",
       "§ 3.  Det er forbudt at udøve jagt på\n",
       "eller på anden måde at ombringe, indfange eller forjage vandfugle\n",
       "på de i § 2, stk. 1, nr. 1, nævnte landarealer.\n",
       "End of \"§ 3\"\n",
       "\n",
       "§ 4.  Det er forbudt at udøve jagt på\n",
       "eller på anden måde at ombringe, indfange eller forjage pattedyr\n",
       "og fugle på:\n",
       "1)\tDen i § 2, stk. 1, nr. 2, nævnte del af søterritoriet,\n",
       "der er beliggende nord og øst for en ret linie mellem positionerne\n",
       "54 °\n",
       "53,40  N. 12 °\n",
       "07,80  E (200 m sydvest for Hårbøllebro), og 54 °\n",
       "53,68  N. 12 °\n",
       "07,35  E (250 m sydvest for Færgensvænge) og en ret linie derfra\n",
       "til position 54 °\n",
       "54,31  N. 12 °\n",
       "04,63  E (300 m syd for Gundernæs på Bogø), og\n",
       "2)\tden i § 2, stk. 1, nr. 3, nævnte del af søterritoriet,\n",
       "der er beliggende indenfor en afstand af 200 m fra\n",
       "Bogødæmningen.\n",
       "Stk. 2.  Færdsel med ladt skydevåben er\n",
       "forbudt på de i stk. 1 nævnte dele af søterritoriet.\n",
       "Stk. 3.  De anvendte koordinater er geografiske positioner\n",
       "i henhold til projektion WGS-84.\n",
       "End of \"§ 4\"\n",
       "\n",
       "§ 5.  Det er forbudt at udøve jagt fra\n",
       "motordrevet fartøj på den i § 2, stk. 1, nr. 2, nævnte del\n",
       "af søterritoriet, der er beliggende syd for de i § 4 stk. 1, nr. 1,\n",
       "beskrevne linier.\n",
       "Færdsel\n",
       "\n",
       "End of \"§ 5\"\n",
       "\n",
       "§ 6.  Sejlads med motordrevet fartøj med\n",
       "højere hastighed end 6 knob er forbudt på de i § 4, stk. 1,\n",
       "nævnte dele af søterritoriet.\n",
       "End of \"§ 6\"\n",
       "\n",
       "§ 7.  Brætsejlads er forbudt på de i §\n",
       "4, stk. 1, nævnte dele af søterritoriet fra 1. september til 30.\n",
       "april.\n",
       "End of \"§ 7\"\n",
       "\n",
       "§ 8.  Færdsel er forbudt fra 1. april til 15.\n",
       "juli på Malurtholm og på søterritoriet omkring øen\n",
       "indenfor en afstand af 50 meter fra højeste, daglige\n",
       "vandstandslinie.\n",
       "Stk. 2.  Bestemmelsen i stk. 1 gælder ikke\n",
       "for:\n",
       "1)\tEjere og brugere samt disses husstand og personale.\n",
       "2)\tSejlads på den nævnte del af søterritoriet i\n",
       "forbindelse med erhvervsfiskeri.\n",
       "Dispensation og tilsyn\n",
       "\n",
       "End of \"§ 8\"\n",
       "\n",
       "§ 9.  Skov- og Naturstyrelsen kan, når\n",
       "særlige forhold taler derfor, dispensere fra bestemmelserne i §§\n",
       "3-8.\n",
       "Stk. 2.  Skov- og Naturstyrelsens afgørelser efter\n",
       "stk. 1 kan ikke indbringes for anden administrativ myndighed.\n",
       "Stk. 3.  Uanset bestemmelserne i § 6 og § 8 kan\n",
       "Farvandsvæsenet eller andre (f.eks. havne) udføre arbejder i\n",
       "forbindelse med redningsopgaver og den for sejladsen nødvendige\n",
       "afmærkning m.v.\n",
       "End of \"§ 9\"\n",
       "\n",
       "§ 10.  Skov- og Naturstyrelsen fører tilsyn\n",
       "med, at reservatbestemmelserne overholdes.\n",
       "Straf og ikrafttrædelse\n",
       "\n",
       "End of \"§ 10\"\n",
       "\n",
       "§ 11.  Efter § 54, stk. 1, nr. 5 og nr. 7, i lov om\n",
       "jagt og vildtforvaltning, jf. lovbekendtgørelse nr. 114 af 28. januar\n",
       "1997, straffes overtrædelse af bestemmelserne i §§ 3-8 eller\n",
       "tilsidesættelse af vilkår, der er fastsat i en dispensation i\n",
       "medfør af § 9 med bøde, medmindre strengere straf er forskyldt\n",
       "efter den øvrige lovgivning.\n",
       "End of \"§ 11\"\n",
       "\n",
       "§ 12.  Bekendtgørelsen træder i kraft\n",
       "den 1. september 1999.\n",
       "End of \"§ 12\"\n",
       "\n",
       "Miljø- og Energiministeriet, den 28. juni\n",
       "1999\n",
       "Svend Auken\n",
       "/Jens Peter Simonsen\n",
       "End of \"GIVET\""
      ]
     },
     "execution_count": 19,
     "metadata": {},
     "output_type": "execute_result"
    }
   ],
   "source": [
    "# Findings docs with alpha ratio below 0.6\n",
    "low_legal_alpha_ratio = [doc for doc in legal_docs if doc._.quality[\"alpha_ratio\"] < 0.6]\n",
    "\n",
    "low_legal_alpha_ratio[0]"
   ]
  },
  {
   "attachments": {},
   "cell_type": "markdown",
   "metadata": {},
   "source": [
    "From this we can see that a high proportion of the tokens in the legal dataset are paragraph signs, paragraph numbers or numbers related to addresses (20 e, 23 a etc.). This might or might not be problematic for the task at hand.\n",
    "\n",
    "**Therefore it is important to note that while these filters are useful for filtering large amount of texts it is also important to know that they should probably be adjusted to the target domain.**"
   ]
  },
  {
   "cell_type": "markdown",
   "metadata": {},
   "source": []
  }
 ],
 "metadata": {
  "kernelspec": {
   "display_name": "Python 3.10.9 ('.venv': venv)",
   "language": "python",
   "name": "python3"
  },
  "language_info": {
   "codemirror_mode": {
    "name": "ipython",
    "version": 3
   },
   "file_extension": ".py",
   "mimetype": "text/x-python",
   "name": "python",
   "nbconvert_exporter": "python",
   "pygments_lexer": "ipython3",
   "version": "3.10.9"
  },
  "orig_nbformat": 4,
  "vscode": {
   "interpreter": {
    "hash": "1fec3abd59d8d4e793464ce299b69082c8b9c618d555ba6df7044c7d7b4183f8"
   }
  }
 },
 "nbformat": 4,
 "nbformat_minor": 2
}
